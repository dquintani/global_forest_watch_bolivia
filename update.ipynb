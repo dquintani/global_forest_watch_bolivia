{
 "cells": [
  {
   "cell_type": "code",
   "execution_count": 1,
   "id": "e0a69126-5fca-4de3-b088-0c511e247c4b",
   "metadata": {},
   "outputs": [],
   "source": [
    "import pandas as pd"
   ]
  },
  {
   "cell_type": "code",
   "execution_count": 44,
   "id": "155967e9-f260-40ab-82b6-93f016bcfd50",
   "metadata": {},
   "outputs": [
    {
     "data": {
      "text/plain": [
       "['Read_Me',\n",
       " 'Country tree cover loss',\n",
       " 'Country carbon data',\n",
       " 'Subnational 1 tree cover loss',\n",
       " 'Subnational 1 carbon data',\n",
       " 'Subnational 2 tree cover loss',\n",
       " 'Subnational 2 carbon data']"
      ]
     },
     "execution_count": 44,
     "metadata": {},
     "output_type": "execute_result"
    }
   ],
   "source": [
    "df = pd.read_excel(\"https://gfw2-data.s3.amazonaws.com/country-pages/country_stats/download/20200331/BOL.xlsx\", None)\n",
    "sheets = list(df.keys())\n",
    "list(sheets)"
   ]
  },
  {
   "cell_type": "code",
   "execution_count": 48,
   "id": "885c398a-856d-4397-a5e2-54c9d4d5b4f0",
   "metadata": {},
   "outputs": [],
   "source": [
    "df[sheets[1]].to_csv(\"data_raw/1_country_tree_cover_loss.csv\")\n",
    "df[sheets[2]].to_csv(\"data_raw/2_country_carbon_data.csv\")\n",
    "df[sheets[3]].to_csv(\"data_raw/3_subnational_1_tree_cover_loss.csv\")\n",
    "df[sheets[4]].to_csv(\"data_raw/4_subnational_1_carbon_data.csv\")\n",
    "df[sheets[5]].to_csv(\"data_raw/5_subnational_2_tree_cover_loss.csv\")\n",
    "df[sheets[6]].to_csv(\"data_raw/6_subnational_2_carbon_data.csv\")"
   ]
  }
 ],
 "metadata": {
  "kernelspec": {
   "display_name": "Python 3 (ipykernel)",
   "language": "python",
   "name": "python3"
  },
  "language_info": {
   "codemirror_mode": {
    "name": "ipython",
    "version": 3
   },
   "file_extension": ".py",
   "mimetype": "text/x-python",
   "name": "python",
   "nbconvert_exporter": "python",
   "pygments_lexer": "ipython3",
   "version": "3.8.10"
  }
 },
 "nbformat": 4,
 "nbformat_minor": 5
}
